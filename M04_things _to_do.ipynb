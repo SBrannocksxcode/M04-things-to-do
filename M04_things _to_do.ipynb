{
 "cells": [
  {
   "cell_type": "code",
   "execution_count": null,
   "id": "de3e62a5",
   "metadata": {
    "lines_to_next_cell": 1
   },
   "outputs": [],
   "source": [
    "# Define a function in zoo.py\n",
    "def hours():\n",
    "    print('Open 9-5 daily')"
   ]
  },
  {
   "cell_type": "code",
   "execution_count": null,
   "id": "a6bfe688",
   "metadata": {},
   "outputs": [],
   "source": [
    "# Exercise 11.1: Import the zoo module and call its hours() function\n",
    "# Import the zoo module\n",
    ">>> import zoo\n",
    "# Call the hours() function from the zoo module\n",
    ">>> zoo.hours()\n",
    "Open 9-5 daily"
   ]
  },
  {
   "cell_type": "code",
   "execution_count": null,
   "id": "90c9801f",
   "metadata": {},
   "outputs": [],
   "source": [
    "# Exercise 11.2: Import the zoo module as 'menagerie' and call its hours() function\n",
    "# Import the zoo module with alias 'menagerie'\n",
    ">>> import zoo as menagerie\n",
    "# Call the hours() function using the 'menagerie' alias\n",
    ">>> menagerie.hours()\n",
    "Open 9-5 daily"
   ]
  },
  {
   "cell_type": "code",
   "execution_count": null,
   "id": "8182832b",
   "metadata": {},
   "outputs": [],
   "source": []
  },
  {
   "cell_type": "code",
   "execution_count": null,
   "id": "0ade1377",
   "metadata": {},
   "outputs": [],
   "source": []
  },
  {
   "cell_type": "code",
   "execution_count": null,
   "id": "80619e8f",
   "metadata": {},
   "outputs": [],
   "source": [
    "#Exercise 16.8: use the sqlalchemy module to connect to the books.db SQLite database and select and print the title column from the book table in alphabetical order.\n",
    "# Import necessary libraries\n",
    "import sqlalchemy as db"
   ]
  },
  {
   "cell_type": "code",
   "execution_count": null,
   "id": "870065d5",
   "metadata": {},
   "outputs": [],
   "source": [
    "# Connect to the SQLite database using sqlalchemy\n",
    "engine = db.create_engine('sqlite:///books.db')\n",
    "connection = engine.connect()"
   ]
  },
  {
   "cell_type": "code",
   "execution_count": null,
   "id": "2a177169",
   "metadata": {},
   "outputs": [],
   "source": [
    "# Reflect the database tables\n",
    "metadata = db.MetaData()\n",
    "books = db.Table('books', metadata, autoload=True, autoload_with=engine)"
   ]
  },
  {
   "cell_type": "code",
   "execution_count": null,
   "id": "7032d558",
   "metadata": {},
   "outputs": [],
   "source": [
    "# Create a query to select the title column from the book table in alphabetical order\n",
    "query = db.select([books.columns.title]).order_by(books.columns.title)"
   ]
  },
  {
   "cell_type": "code",
   "execution_count": null,
   "id": "c58b3305",
   "metadata": {},
   "outputs": [],
   "source": [
    "# Execute the query and fetch all results\n",
    "results = connection.execute(query).fetchall()"
   ]
  },
  {
   "cell_type": "code",
   "execution_count": null,
   "id": "089035cd",
   "metadata": {},
   "outputs": [],
   "source": [
    "# Print the titles in alphabetical order\n",
    "for result in results:\n",
    "    print(result[0])"
   ]
  },
  {
   "cell_type": "code",
   "execution_count": null,
   "id": "36f7b31d",
   "metadata": {},
   "outputs": [],
   "source": [
    "# Close the connection\n",
    "connection.close()"
   ]
  }
 ],
 "metadata": {
  "jupytext": {
   "cell_metadata_filter": "-all",
   "main_language": "python",
   "notebook_metadata_filter": "-all"
  }
 },
 "nbformat": 4,
 "nbformat_minor": 5
}
